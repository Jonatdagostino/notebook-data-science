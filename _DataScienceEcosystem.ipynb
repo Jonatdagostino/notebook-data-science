{
  "metadata": {
    "kernelspec": {
      "name": "python",
      "display_name": "Python (Pyodide)",
      "language": "python"
    },
    "language_info": {
      "codemirror_mode": {
        "name": "python",
        "version": 3
      },
      "file_extension": ".py",
      "mimetype": "text/x-python",
      "name": "python",
      "nbconvert_exporter": "python",
      "pygments_lexer": "ipython3",
      "version": "3.8"
    }
  },
  "nbformat_minor": 5,
  "nbformat": 4,
  "cells": [
    {
      "id": "1b15dfe0-1cc0-418c-9373-5814813e1995",
      "cell_type": "markdown",
      "source": "# Outils et écosystème de la science des données",
      "metadata": {}
    },
    {
      "id": "9c715a62-96f3-4f6a-a233-0602d20ebcd6",
      "cell_type": "markdown",
      "source": "Dans ce notebook, les outils et l'écosystème de la science des données sont résumés.",
      "metadata": {}
    },
    {
      "id": "f42ab956-0a98-4da9-96ec-863cedd3b921",
      "cell_type": "markdown",
      "source": "**Objectifs :**\n\n- Lister les langages populaires pour la science des données  \n- Identifier les bibliothèques couramment utilisées en science des données  \n- Présenter les outils open source pour la science des données  \n- Effectuer des opérations arithmétiques simples en Python  \n- Convertir des unités de temps avec Python  \n",
      "metadata": {}
    },
    {
      "id": "4cb4453a-35ca-47f0-9979-1a35671f94bb",
      "cell_type": "markdown",
      "source": "Certains des langages populaires que les scientifiques des données utilisent sont :\n\n1. Python\n2. R\n3. SQL",
      "metadata": {}
    },
    {
      "id": "860314ef-d3ed-4f64-93bc-0004f8c0d545",
      "cell_type": "markdown",
      "source": "Certaines des bibliothèques couramment utilisées par les scientifiques des données incluent :\n\n1. Pandas\n2. NumPy\n3. Matplotlib",
      "metadata": {}
    },
    {
      "id": "84e488ae-2baa-428d-ab07-98c1e9d72026",
      "cell_type": "markdown",
      "source": "| Outils de la science des données |\n|----------------------------------|\n| Jupyter                          |\n| RStudio                          |\n| Apache Zeppelin                  |\n",
      "metadata": {}
    },
    {
      "id": "d9f1de3e-7264-443e-aae8-61beebe00b03",
      "cell_type": "markdown",
      "source": "### Voici quelques exemples d'évaluation d'expressions arithmétiques en Python.",
      "metadata": {}
    },
    {
      "id": "88352576-a8e9-4ccb-820a-ff14bd99fe32",
      "cell_type": "code",
      "source": "# Ceci est une simple expression arithmétique pour multiplier puis additionner des entiers.\n(3 * 4) + 5\n",
      "metadata": {
        "trusted": true
      },
      "outputs": [
        {
          "execution_count": 1,
          "output_type": "execute_result",
          "data": {
            "text/plain": "17"
          },
          "metadata": {}
        }
      ],
      "execution_count": 1
    },
    {
      "id": "04a45068-9f51-4cfa-9400-88955f011627",
      "cell_type": "code",
      "source": "# Cela convertira 200 minutes en heures en divisant par 60.\n200 / 60\n",
      "metadata": {
        "trusted": true
      },
      "outputs": [
        {
          "execution_count": 2,
          "output_type": "execute_result",
          "data": {
            "text/plain": "3.3333333333333335"
          },
          "metadata": {}
        }
      ],
      "execution_count": 2
    },
    {
      "id": "bb68f0cd-15f5-4a36-9a9a-172c6782b304",
      "cell_type": "markdown",
      "source": "## Auteur\n\nJonatan D'Agostino",
      "metadata": {}
    }
  ]
}